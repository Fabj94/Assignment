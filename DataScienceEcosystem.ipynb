{
 "cells": [
  {
   "cell_type": "markdown",
   "id": "7b219397-eb40-4f52-8aee-82f8861c0020",
   "metadata": {},
   "source": [
    "# Data Science Tools and Ecosystem"
   ]
  },
  {
   "cell_type": "markdown",
   "id": "2ad3d676-4fb6-4a93-ac35-073c870c1eae",
   "metadata": {},
   "source": [
    "In this notebook, Data Science Tools and Ecosystem are summarized"
   ]
  },
  {
   "cell_type": "markdown",
   "id": "d73cf40b-5686-431c-ae25-e6056211ea7f",
   "metadata": {},
   "source": [
    "**Objectives:**\n",
    "* List the popular languages\n",
    "* List the common libraries\n",
    "* Simple arithmetic exercises"
   ]
  },
  {
   "cell_type": "markdown",
   "id": "4c9d38c9-5bbf-414e-92aa-92ce410d0330",
   "metadata": {},
   "source": [
    "Some of the popular languages that Data Scientists use are:\n",
    "1. Python\n",
    "2. Java\n",
    "3. Javascript\n",
    "4. R"
   ]
  },
  {
   "cell_type": "markdown",
   "id": "7d1d3c37-2064-4414-be3f-eba0fc7d76ab",
   "metadata": {},
   "source": [
    "Some of the commonly used libraries used by Data Scientists include:\n",
    "1. Pandas\n",
    "2. Numpy\n",
    "3. Plotly\n",
    "4. Matplotlib"
   ]
  },
  {
   "cell_type": "markdown",
   "id": "81bb33fc-6a31-4703-aac9-ef3c48e308af",
   "metadata": {},
   "source": [
    "| Data Science Tools |\n",
    "| -------- |  \n",
    "| Hadoop |  \n",
    "| Spark |  \n",
    "| Tensor flow |  "
   ]
  },
  {
   "cell_type": "markdown",
   "id": "e6c17223-9e41-4e9e-89be-cd2d91d96d39",
   "metadata": {},
   "source": [
    "### Below are a few examples of evaluating arithmetic expressions in Python"
   ]
  },
  {
   "cell_type": "code",
   "execution_count": 1,
   "id": "42fff5ef-39e4-453a-b467-f822f520ad2c",
   "metadata": {},
   "outputs": [
    {
     "data": {
      "text/plain": [
       "17"
      ]
     },
     "execution_count": 1,
     "metadata": {},
     "output_type": "execute_result"
    }
   ],
   "source": [
    "(3*4)+5\n",
    "#This a simple arithmetic expression to mutiply then add integers"
   ]
  },
  {
   "cell_type": "code",
   "execution_count": 2,
   "id": "b6cbe5f4-4106-4a49-a723-f64a2f097c80",
   "metadata": {},
   "outputs": [
    {
     "data": {
      "text/plain": [
       "3.3333333333333335"
      ]
     },
     "execution_count": 2,
     "metadata": {},
     "output_type": "execute_result"
    }
   ],
   "source": [
    "(200)/60\n",
    "#This will convert 200 minutes to hours by diving by 60"
   ]
  },
  {
   "cell_type": "markdown",
   "id": "58a72184-42da-488a-9962-97d5f067d7ff",
   "metadata": {},
   "source": [
    "## Author\n",
    "Fabián Álvarez"
   ]
  },
  {
   "cell_type": "code",
   "execution_count": null,
   "id": "ec6d862b-1f0c-4e73-bd39-4ec079435108",
   "metadata": {},
   "outputs": [],
   "source": []
  }
 ],
 "metadata": {
  "kernelspec": {
   "display_name": "Python",
   "language": "python",
   "name": "conda-env-python-py"
  },
  "language_info": {
   "codemirror_mode": {
    "name": "ipython",
    "version": 3
   },
   "file_extension": ".py",
   "mimetype": "text/x-python",
   "name": "python",
   "nbconvert_exporter": "python",
   "pygments_lexer": "ipython3",
   "version": "3.7.12"
  }
 },
 "nbformat": 4,
 "nbformat_minor": 5
}
